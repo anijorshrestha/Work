{
 "cells": [
  {
   "cell_type": "code",
   "execution_count": 4,
   "metadata": {},
   "outputs": [],
   "source": [
    "\n",
    "import numpy as np\n",
    "import pandas as pd\n",
    "from pandas import Series, DataFrame\n",
    "import matplotlib.pyplot as plt\n",
    "from sklearn import linear_model\n",
    "from sklearn.metrics import accuracy_score\n",
    "from sklearn.model_selection import train_test_split\n",
    "import statsmodels.api as sm\n",
    "from sklearn.metrics import mean_squared_error, r2_score\n",
    "from sklearn.model_selection import KFold\n",
    "from sklearn import model_selection\n",
    "from sklearn.model_selection import cross_val_score, KFold, StratifiedKFold\n",
    "import statistics \n",
    "from sklearn.linear_model import LinearRegression"
   ]
  },
  {
   "cell_type": "code",
   "execution_count": 44,
   "metadata": {},
   "outputs": [
    {
     "name": "stdout",
     "output_type": "stream",
     "text": [
      "Coefficient:  [-3.46670010e+00 -3.67928553e+00  2.26779477e-04  1.48092058e-02\n",
      "  4.76718108e+00  1.90746434e+00  7.31155508e+00  2.75824528e+00\n",
      " -2.55304796e+00 -2.09298423e+01  2.15588171e+00 -3.03964522e-01\n",
      "  3.01366792e-01 -2.36524563e-01]\n",
      "Intercept:  83.03194222191934\n",
      "R2: \n",
      " 0.6096302711271767\n"
     ]
    }
   ],
   "source": [
    "df = pd.read_excel('DB1.xlsx', index_col=None, header=6)\n",
    "\n",
    "\n",
    "################## 1. Hinterschnitt #######################\n",
    "\n",
    "X = df[['Materialsorte_OB','Materialsorte_UB','Zugfestigkeit_OB','Zugfestigkeit_UB','Dicke_OB','Dicke_UB','Niettyp','Nietlaenge','Matrizendurchmesser','Matrizentiefe','Dornhoehe','Dornbreite','Konturradius','Nietkopfendlage']]\n",
    "Y = df['Fuegekraft']\n",
    "\n",
    "X_train, X_test, Y_train, Y_test = train_test_split( X, Y, test_size=0.2, random_state=0)\n",
    "\n",
    "regressor = LinearRegression()\n",
    "regressor.fit(X_train,Y_train)\n",
    "print('Coefficient: ',regressor.coef_)\n",
    "print('Intercept: ',regressor.intercept_)\n",
    "y_pred=regressor.predict(X_test)\n",
    "test_set_r2 = r2_score(Y_test, y_pred)\n",
    "\n",
    "print('R2: \\n',test_set_r2)"
   ]
  },
  {
   "cell_type": "code",
   "execution_count": 45,
   "metadata": {},
   "outputs": [
    {
     "name": "stdout",
     "output_type": "stream",
     "text": [
      "                            OLS Regression Results                            \n",
      "==============================================================================\n",
      "Dep. Variable:             Fuegekraft   R-squared:                       0.468\n",
      "Model:                            OLS   Adj. R-squared:                  0.387\n",
      "Method:                 Least Squares   F-statistic:                     5.813\n",
      "Date:                Wed, 08 Jul 2020   Prob (F-statistic):           1.48e-07\n",
      "Time:                        12:18:56   Log-Likelihood:                -313.01\n",
      "No. Observations:                 100   AIC:                             654.0\n",
      "Df Residuals:                      86   BIC:                             690.5\n",
      "Df Model:                          13                                         \n",
      "Covariance Type:            nonrobust                                         \n",
      "==============================================================================\n",
      "                 coef    std err          t      P>|t|      [0.025      0.975]\n",
      "------------------------------------------------------------------------------\n",
      "const         66.6799     15.757      4.232      0.000      35.355      98.004\n",
      "x1            -3.4667      1.761     -1.968      0.052      -6.968       0.035\n",
      "x2            -3.6793      1.599     -2.301      0.024      -6.858      -0.501\n",
      "x3             0.0002      0.004      0.062      0.951      -0.007       0.008\n",
      "x4             0.0148      0.005      2.947      0.004       0.005       0.025\n",
      "x5             4.7672      3.439      1.386      0.169      -2.069      11.604\n",
      "x6             1.9075      2.959      0.645      0.521      -3.976       7.791\n",
      "x7             7.3116      2.131      3.431      0.001       3.075      11.548\n",
      "x8             2.7582      2.404      1.147      0.254      -2.021       7.537\n",
      "x9            -2.5530      1.892     -1.349      0.181      -6.314       1.208\n",
      "x10          -20.9298      3.983     -5.255      0.000     -28.848     -13.012\n",
      "x11           -2.4034      4.469     -0.538      0.592     -11.287       6.480\n",
      "x12           -0.2163      1.192     -0.181      0.856      -2.586       2.153\n",
      "x13           33.0055      7.444      4.434      0.000      18.207      47.804\n",
      "x14           -0.2365      1.062     -0.223      0.824      -2.347       1.874\n",
      "==============================================================================\n",
      "Omnibus:                        1.607   Durbin-Watson:                   1.825\n",
      "Prob(Omnibus):                  0.448   Jarque-Bera (JB):                1.354\n",
      "Skew:                           0.285   Prob(JB):                        0.508\n",
      "Kurtosis:                       3.012   Cond. No.                     2.68e+19\n",
      "==============================================================================\n",
      "\n",
      "Warnings:\n",
      "[1] Standard Errors assume that the covariance matrix of the errors is correctly specified.\n",
      "[2] The smallest eigenvalue is 6.47e-32. This might indicate that there are\n",
      "strong multicollinearity problems or that the design matrix is singular.\n",
      "R2 from ols: \n",
      " 0.6096302711271961\n"
     ]
    }
   ],
   "source": [
    "X_endog = sm.add_constant(X_train.values)\n",
    "res = sm.OLS(Y_train, X_endog).fit()\n",
    "print(res.summary())\n",
    "\n",
    "r2 = r2_score(Y_test, y_pred_ols)\n",
    "\n",
    "print('R2 from ols: \\n',r2)\n"
   ]
  },
  {
   "cell_type": "code",
   "execution_count": null,
   "metadata": {},
   "outputs": [],
   "source": []
  },
  {
   "cell_type": "code",
   "execution_count": null,
   "metadata": {},
   "outputs": [],
   "source": []
  }
 ],
 "metadata": {
  "kernelspec": {
   "display_name": "Python 3",
   "language": "python",
   "name": "python3"
  },
  "language_info": {
   "codemirror_mode": {
    "name": "ipython",
    "version": 3
   },
   "file_extension": ".py",
   "mimetype": "text/x-python",
   "name": "python",
   "nbconvert_exporter": "python",
   "pygments_lexer": "ipython3",
   "version": "3.7.4"
  }
 },
 "nbformat": 4,
 "nbformat_minor": 2
}
